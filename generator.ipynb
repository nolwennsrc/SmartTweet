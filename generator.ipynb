{
 "cells": [
  {
   "cell_type": "markdown",
   "metadata": {},
   "source": [
    "# <font color=darkblue> Generateur de tweets</font>"
   ]
  },
  {
   "cell_type": "markdown",
   "metadata": {},
   "source": [
    "#### <font color=black> Importations</font>"
   ]
  },
  {
   "cell_type": "code",
   "execution_count": 1,
   "metadata": {},
   "outputs": [
    {
     "name": "stderr",
     "output_type": "stream",
     "text": [
      "Using TensorFlow backend.\n"
     ]
    }
   ],
   "source": [
    "import csv\n",
    "import json\n",
    "import tweepy\n",
    "import keras\n",
    "import numpy as np\n",
    "import tensorflow as tf\n",
    "from tweepy import OAuthHandler"
   ]
  },
  {
   "cell_type": "code",
   "execution_count": 1,
   "metadata": {},
   "outputs": [
    {
     "name": "stdout",
     "output_type": "stream",
     "text": [
      "1.15.0\n"
     ]
    }
   ],
   "source": [
    "print(tensorflow.__version__)"
   ]
  },
  {
   "cell_type": "markdown",
   "metadata": {},
   "source": [
    "#### <font color=black> Comptes</font>"
   ]
  },
  {
   "cell_type": "code",
   "execution_count": 2,
   "metadata": {},
   "outputs": [],
   "source": [
    "ListFashion = ['VictoriasSecret', 'hm', 'Dior', 'LouisVuitton', 'LouboutinWorld', 'FashionWeek', 'TwitterFashion', 'EurFashion', 'fmd1_com', 'PaulSmithDesign', 'GuardianFashion']\n",
    "ListHealth =['NCICancerBio', 'NICEcomms', 'WHO', 'HarvardHealth', 'bbchealth', 'NYTHealth', 'MayoClinic', 'NIH', 'HHSGov', 'CDCgov']\n",
    "ListTech =['nvidia', 'techreview', 'AndroidAuth', 'kingstontech', 'intel', 'Cisco', 'Huawei', 'awscloud', 'github', 'Docker']\n",
    "ListSport =['USPORTSca', 'FIFAcom', 'AllBlacks', 'Wimbledon', 'SportsCenter', 'FISU', 'NBCSports', 'SportsDirectUK', 'ClemsonTigers', 'SkySportsStatto']\n",
    "ListCooking =['LeanCuisine', 'Bocusedor', 'CookingChannel', 'vegancook101', 'taste_cooking', 'TheJoyofCooking', 'NEFFHomeUK', 'FoodNetwork']\n",
    "ListMusic =['Spotify', 'davidguetta', 'Deezer', 'QueenWillRock', 'thebeatles', 'MartinGarrix', 'SoundCloud', 'AppleMusic']\n",
    "ListVideogames =['TeamVitality', 'amazongames', 'VGArtAndTidbits', 'anthemgame', 'VideoArtGame', 'onepiece_games', 'GreenManGaming', 'didyouknowgamin', 'Area51Gaming', 'SXSWGaming']\n",
    "ListPolitic =['PnPCBC', 'business', 'BarackObama', 'HillaryClinton', 'theresa_may', 'NATO', 'UN', 'EU_Commission', 'wef', 'Europarl_EN']\n",
    "ListScience =['esa', 'NASA', 'NaturePhysics', 'ScienceNews', 'newscientist', 'sciam', 'sciencemagazine', 'BBCScienceNews', 'MoMath1', 'centerofmath']\n",
    "ListCinema = ['TheAcademy', 'ParamountPics', 'UniversalPics', 'wbpictures', 'SonyPictures', 'netflix', 'DisneyStudios', 'THR']"
   ]
  },
  {
   "cell_type": "markdown",
   "metadata": {},
   "source": [
    "#### <font color=black> Identifiants Tweepy</font>"
   ]
  },
  {
   "cell_type": "code",
   "execution_count": 3,
   "metadata": {},
   "outputs": [],
   "source": [
    "consumer_key = 'gew1sBaXeilUZICE0Dx9X45Go'\n",
    "consumer_secret = 'MPd6XZ8yLPzGsW0S5dYpqCCGKNU08rryMOGWQ2PaDXVvVVfJCB'\n",
    "access_token = '732298075440599041-1o5r3u0kGTIP7Cl6kLqj3rtbIorETYH'\n",
    "access_secret = 'b7PT0ofY21BRNTBOEG4HOzcDUhGaSBdqZcmYJblyEj6C5'\n",
    "auth = OAuthHandler(consumer_key, consumer_secret)\n",
    "auth.set_access_token(access_token, access_secret)\n",
    "api = tweepy.API(auth)\n",
    "\n",
    "\n",
    "auth = OAuthHandler(consumer_key, consumer_secret)\n",
    "auth.set_access_token(access_token, access_secret)\n",
    "api = tweepy.API(auth)"
   ]
  },
  {
   "cell_type": "markdown",
   "metadata": {},
   "source": [
    "## <font color=darkred> Generateur sur le thème Fashion</font>"
   ]
  },
  {
   "cell_type": "markdown",
   "metadata": {},
   "source": [
    "#### <font color=black> Création base de donnée de tweet Fashion</font>"
   ]
  },
  {
   "cell_type": "code",
   "execution_count": 10,
   "metadata": {},
   "outputs": [],
   "source": [
    "MAX = 10000\n",
    "with open('CSV_theme/Fashion.csv', 'w', newline='') as csvfile:\n",
    "    spamwriter = csv.writer(csvfile, delimiter=',',\n",
    "                            quotechar='\"', quoting=csv.QUOTE_MINIMAL)\n",
    "\n",
    "    for user in ListFashion:\n",
    "        tweets = api.user_timeline(screen_name=user, count=MAX, tweet_mode='extended')      \n",
    "\n",
    "        #on suppose qu'il y a toujours du texte\n",
    "        for t in tweets :\n",
    "            if (t.in_reply_to_status_id_str==None):\n",
    "                tweet= t.full_text.encode(\"utf-8\")\n",
    "                spamwriter.writerow([ tweet ])"
   ]
  },
  {
   "cell_type": "markdown",
   "metadata": {},
   "source": [
    "#### <font color=black> Importation gpt-2</font>"
   ]
  },
  {
   "cell_type": "code",
   "execution_count": 2,
   "metadata": {},
   "outputs": [
    {
     "name": "stdout",
     "output_type": "stream",
     "text": [
      "WARNING:tensorflow:\n",
      "The TensorFlow contrib module will not be included in TensorFlow 2.0.\n",
      "For more information, please see:\n",
      "  * https://github.com/tensorflow/community/blob/master/rfcs/20180907-contrib-sunset.md\n",
      "  * https://github.com/tensorflow/addons\n",
      "  * https://github.com/tensorflow/io (for I/O related ops)\n",
      "If you depend on functionality not listed there, please file an issue.\n",
      "\n"
     ]
    }
   ],
   "source": [
    "#!pip install -q gpt-2-simple\n",
    "import gpt_2_simple as gpt2\n",
    "from datetime import datetime\n"
   ]
  },
  {
   "cell_type": "markdown",
   "metadata": {},
   "source": [
    "#### <font color=black> Entrainement du générateur gpt-2 et génération de tweets </font>"
   ]
  },
  {
   "cell_type": "code",
   "execution_count": 3,
   "metadata": {},
   "outputs": [
    {
     "name": "stderr",
     "output_type": "stream",
     "text": [
      "Fetching checkpoint: 1.05Mit [00:00, 56.7Mit/s]                                                     \n",
      "Fetching encoder.json: 1.05Mit [00:00, 15.4Mit/s]                                                   \n",
      "Fetching hparams.json: 1.05Mit [00:00, 56.9Mit/s]                                                   \n",
      "Fetching model.ckpt.data-00000-of-00001: 498Mit [00:33, 14.7Mit/s]                                  \n",
      "Fetching model.ckpt.index: 1.05Mit [00:00, 211Mit/s]                                                \n",
      "Fetching model.ckpt.meta: 1.05Mit [00:00, 9.69Mit/s]                                                \n",
      "Fetching vocab.bpe: 1.05Mit [00:00, 35.9Mit/s]                                                      \n"
     ]
    },
    {
     "name": "stdout",
     "output_type": "stream",
     "text": [
      "WARNING:tensorflow:From C:\\Users\\alice\\Anaconda3\\envs\\tensorflow1\\lib\\site-packages\\gpt_2_simple\\src\\sample.py:17: where (from tensorflow.python.ops.array_ops) is deprecated and will be removed in a future version.\n",
      "Instructions for updating:\n",
      "Use tf.where in 2.0, which has the same broadcast rule as np.where\n",
      "Loading checkpoint models\\124M\\model.ckpt\n",
      "INFO:tensorflow:Restoring parameters from models\\124M\\model.ckpt\n"
     ]
    },
    {
     "name": "stderr",
     "output_type": "stream",
     "text": [
      "\r",
      "  0%|          | 0/1 [00:00<?, ?it/s]"
     ]
    },
    {
     "name": "stdout",
     "output_type": "stream",
     "text": [
      "Loading dataset...\n"
     ]
    },
    {
     "name": "stderr",
     "output_type": "stream",
     "text": [
      "100%|██████████| 1/1 [00:01<00:00,  1.38s/it]\n"
     ]
    },
    {
     "name": "stdout",
     "output_type": "stream",
     "text": [
      "dataset has 137964 tokens\n",
      "Training...\n",
      "[1 | 155.98] loss=2.66 avg=2.66\n",
      "[2 | 324.39] loss=2.73 avg=2.70\n",
      "[3 | 460.06] loss=2.67 avg=2.69\n",
      "[4 | 596.06] loss=2.98 avg=2.76\n",
      "[5 | 689.09] loss=2.76 avg=2.76\n",
      "[6 | 794.43] loss=2.63 avg=2.74\n",
      "[7 | 885.22] loss=2.50 avg=2.70\n",
      "[8 | 985.30] loss=2.64 avg=2.70\n",
      "[9 | 1079.29] loss=2.59 avg=2.68\n",
      "[10 | 1165.58] loss=2.45 avg=2.66\n",
      "Saving checkpoint\\runfashion1\\model-10\n",
      "The company also announced plans to open a new train station in Pigeon Forge in the town of Doncaster, which will be home to a new theatre, a new bar, a new stage and a new museum.\n",
      "\n",
      "The train station was designed by the Somerset architecture firm as a mid-town district for the exhibition and the printing of a new colour series by the artist, Tifara Puck.\n",
      "\n",
      "Open to the public from 8pm to 9pm on Saturday and Sunday, the new station will be on the main track and will feature a new selection of colour and merchandise.\n",
      "\n",
      "On the main track a new series called The Our-Fashion-Wasn't-So-Slightly-Different-Fashion-To-Me's T-shirt inspired by the 10th century French explorer's ideas, and the new new T-shirt by the artist, Tifara Puck.\n",
      "\n",
      "From the show, the new T-shirt, which will be on the main track and will be available in the shops on Saturday and Sunday, is a unique and unique design by the artist, Tifara Puck, which is being made by the Somerset Architecture Group.\n",
      "\n",
      "\"Tifara Puck's T-shirt designs have inspired the sense of style and creativity we all enjoy, and are now a tradition in our inner city,\" said Somerset architect and designer John Meehan.\n",
      "\n",
      "\"The T-shirt is a unique and unique piece of art and I'm excited to be working with his team on it. Tifara Puck is the first artist to make her own art and it is a great way of showing off her collaboration.\n",
      "\n",
      "\"It's a step forward for us to show off what we've made and create a new model for this show - and we'll be back in action to celebrate it.\n",
      "\n",
      "\"We're also inviting you to join the show and get more info on the T-shirt's future.\n",
      "\n",
      "\"Tifara Puck is a master of colour so we're always looking for new ways to show our works off. I'm looking forward to seeing you around the show!\"\n",
      "\n",
      "Find out more about the T-shirt here and on Facebook and Twitter.\n",
      "\n",
      "The show, which will be on the main track and will be available in the shops on Saturday and Sunday, is a unique and unique design by the artist, Tifara Puck, which is being made by the Somerset Architecture Group.\n",
      "\n",
      "\"Tifara Puck's T-shirt designs have inspired the sense of style and creativity we all enjoy, and are now a tradition in our inner city,\" said Somerset architect and designer John Meehan.\n",
      "\n",
      "\"The T-shirt is a unique and unique piece of art and I'm excited to be working with his team on it. Tifara Puck is the first artist to make her own art and it is a great way of showing off her collaboration.\"\n",
      "\n",
      "Find out more about the T-shirt here and on Facebook and Twitter.\n",
      "\n",
      "Find out more about the new show, which will be on the main track and will be available in the shops on Saturday and Sunday, is a unique and unique design by the artist, Tifara Puck, which is being made by the Somerset architecture firm.\n",
      "\n",
      "\"We're also inviting you to join the show and get more info on the T-shirt's future.\n",
      "\n",
      "\"We're also inviting you to join the show and get more info on the T-shirt's future.\n",
      "\n",
      "\"Tifara Puck is the first artist to make her own art and it is a great way of showing off her collaboration. Tifara Puck is the first artist to make her own art and it is a great way of showing off her collaboration.\n",
      "\n",
      "\"The T-shirt is a unique and unique piece of art and I'm excited to be working with his team on it.\"\n",
      "\n",
      "Find out more about the T-shirt here and on Facebook and Twitter.\n",
      "\n",
      "Find out more about the new show, which will be on the main track and will be available in the shops on Saturday and Sunday, is a unique and unique design by the artist, Tifara Puck, which is being made by the Somerset architect firm.\n",
      "\n",
      "\"We're also inviting you to join the show and get more info on the T-shirt's future.\n",
      "\n",
      "\"Tifara Puck is the first artist to make her own art and it is a great way of showing off her collaboration. Tifara Puck is the first artist to make her own art and it is a great way of showing off her collaboration.\n",
      "\n",
      "\"The T-shirt is a unique and unique piece of art and I'm excited to be working with his team on it. Tifara Puck is the first artist to make her own art and it is a great way of showing off her collaboration.\n",
      "\n",
      "\"The T-shirt is a\n"
     ]
    }
   ],
   "source": [
    "fashion_name = \"CSV_theme/Fashion.csv\"\n",
    "gpt2.download_gpt2() \n",
    "tf.reset_default_graph()\n",
    "sess = gpt2.start_tf_sess()\n",
    "gpt2.finetune(sess, dataset=fashion_name , restore_from='fresh',run_name='runfashion1', steps=10)   \n",
    "# steps is max number of training steps\n",
    "\n",
    "gpt2.generate(sess)"
   ]
  }
 ],
 "metadata": {
  "kernelspec": {
   "display_name": "Python 3",
   "language": "python",
   "name": "python3"
  },
  "language_info": {
   "codemirror_mode": {
    "name": "ipython",
    "version": 3
   },
   "file_extension": ".py",
   "mimetype": "text/x-python",
   "name": "python",
   "nbconvert_exporter": "python",
   "pygments_lexer": "ipython3",
   "version": "3.6.10"
  }
 },
 "nbformat": 4,
 "nbformat_minor": 4
}
