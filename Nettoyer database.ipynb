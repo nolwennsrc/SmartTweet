{
 "cells": [
  {
   "cell_type": "markdown",
   "metadata": {},
   "source": [
    "# <font color=darkblue> Nettoyer Texte</font>"
   ]
  },
  {
   "cell_type": "code",
   "execution_count": 5,
   "metadata": {},
   "outputs": [],
   "source": [
    "import pandas as pd\n",
    "import html"
   ]
  },
  {
   "cell_type": "markdown",
   "metadata": {},
   "source": [
    "#### <font color=black> Création de la fonction pour nettoyer</font>"
   ]
  },
  {
   "cell_type": "code",
   "execution_count": 6,
   "metadata": {},
   "outputs": [],
   "source": [
    "#data_dir = '../../data/smarttweet/'\n",
    "df = pd.read_csv('tweet2.csv')"
   ]
  },
  {
   "cell_type": "code",
   "execution_count": 15,
   "metadata": {},
   "outputs": [
    {
     "name": "stdout",
     "output_type": "stream",
     "text": [
      "0                         Better together: lace & cutouts.\n",
      "1        Too much of a good thing? Never. Buy 3, get 3 ...\n",
      "2        Does your bra collection need a refresh? Buy 2...\n",
      "3                          Everything’s falling into lace.\n",
      "4           New bra tops work double-duty. Just add jeans.\n",
      "                               ...                        \n",
      "16046    RT @Snoodit: Exclusive: #OUAT creators @AdamHo...\n",
      "16047    The creator of #AmazonPrimeVideo's upcoming sc...\n",
      "16048    Ben Affleck had a wonderful time playing Bruce...\n",
      "16049    RT @TheRyanParker: Ben Affleck really did not ...\n",
      "16050    RT @inkookang: i am not allowed to say what th...\n",
      "Name: text, Length: 16051, dtype: object\n"
     ]
    }
   ],
   "source": [
    "# create dataframe\n",
    "df.columns=['account', 'label', 'text', 'image_url']\n",
    "df.image_url = df.image_url.apply(lambda url: url if type(url) is str else None)\n",
    "\n",
    "# decode bytes for text column\n",
    "def string_escape(s, encoding='utf-8'):\n",
    "    return (s.encode('latin1')         # To bytes, required by 'unicode-escape'\n",
    "             .decode('unicode-escape') # Perform the actual octal-escaping decode\n",
    "             .encode('latin1')         # 1:1 mapping back to bytes\n",
    "             .decode(encoding))        # Decode original encoding\n",
    "\n",
    "def clean_text(text):\n",
    "    # fix ascii encoding rendered as strings\n",
    "    if( (text.startswith(\"b'\") and text.endswith(\"'\")) or (text.startswith('b\"') and text.endswith('\"'))):\n",
    "        text = string_escape(text[2:-1])  # remove b'    '   or b\"     \"\n",
    "    # remove URLs\n",
    "    text = ' '.join([word for word in text.split() if not 'http' in word])\n",
    "    # html unescape (&amp; and co)\n",
    "    text = html.unescape(text)\n",
    "    return text\n",
    "    \n",
    "df.text = df.text.apply(clean_text)\n",
    "print(df.text)"
   ]
  },
  {
   "cell_type": "code",
   "execution_count": 17,
   "metadata": {},
   "outputs": [],
   "source": [
    "from csv import writer\n",
    "from csv import reader\n",
    " \n",
    "def add_column_in_csv(input_file, output_file, transform_row):\n",
    "    \"\"\" Append a column in existing csv using csv.reader / csv.writer classes\"\"\"\n",
    "    # Open the input_file in read mode and output_file in write mode\n",
    "    with open(input_file, 'r') as read_obj, \\\n",
    "            open(output_file, 'w', newline='') as write_obj:\n",
    "        # Create a csv.reader object from the input file object\n",
    "        csv_reader = reader(read_obj)\n",
    "        # Create a csv.writer object from the output file object\n",
    "        csv_writer = writer(write_obj)\n",
    "        # Read each row of the input csv file as list\n",
    "        for row in csv_reader:\n",
    "            # Pass the list / row in the transform function to add column text for this row\n",
    "            transform_row(row, csv_reader.line_num)\n",
    "            # Write the updated row / list to the output file\n",
    "            csv_writer.writerow(row)"
   ]
  },
  {
   "cell_type": "markdown",
   "metadata": {},
   "source": [
    "#### <font color=black> Ajouter d'une colonne dans notre Csv avec texte nettoyé </font>"
   ]
  },
  {
   "cell_type": "code",
   "execution_count": 18,
   "metadata": {},
   "outputs": [],
   "source": [
    "header_of_new_col = 'texte_N'\n",
    "# Add the column in csv file with header\n",
    "add_column_in_csv('tweet2.csv', 'tweet2_N.csv',\n",
    "                  lambda row, line_num: row.append(header_of_new_col) if line_num == 1 else row.append(\n",
    "                      clean_text(row[2])))\n"
   ]
  }
 ],
 "metadata": {
  "kernelspec": {
   "display_name": "Python 3",
   "language": "python",
   "name": "python3"
  },
  "language_info": {
   "codemirror_mode": {
    "name": "ipython",
    "version": 3
   },
   "file_extension": ".py",
   "mimetype": "text/x-python",
   "name": "python",
   "nbconvert_exporter": "python",
   "pygments_lexer": "ipython3",
   "version": "3.6.5"
  }
 },
 "nbformat": 4,
 "nbformat_minor": 4
}
