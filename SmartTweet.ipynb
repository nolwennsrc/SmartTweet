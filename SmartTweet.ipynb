{
 "cells": [
  {
   "cell_type": "code",
   "execution_count": 28,
   "metadata": {},
   "outputs": [
    {
     "name": "stdout",
     "output_type": "stream",
     "text": [
      "@DreamyCaitlin So sorry to see this, Caitlin! Please send us a DM with your order number, full name, email address, and shipping address so we can assist further. TY!\n",
      "@queenheavycrown We'll pass along your feedback to being back this classic sweatpants style!\n",
      "@mistysmlack Spread the word, Misty!\n",
      "@sydneydalton We are so sorry to hear that you are missing a pair of your super cute panties, Sydney! We would be happy to help! Please send us a private message with your full name, order number, shipping address and phone number. We hope to hear from you soon!\n",
      "Florals? For spring? Yeah, that’s right! https://t.co/dXo7tUgKEo https://t.co/g6e26WfiCx\n",
      "http://pbs.twimg.com/media/ERfFalIXsAMlbYJ.jpg\n",
      "@xoknb Can't beat $19.95! We'll have one of each! ❤\n",
      "@KouRaGe We cannot wait to shop with you again soon, Kitty!\n",
      "@GrundyYasmin Our beauty team has received your request, Yasmin. We miss Vanilla Lace too!\n",
      "@XtinaKLee We're concerned! Please DM us with your full name, order number, email address, and full mailing address. Talk to you soon!\n",
      "@virgogirl47 We'd like to learn more, Dena. Please DM us with more details!\n"
     ]
    }
   ],
   "source": [
    "user = 'VictoriasSecret'\n",
    "MAX = 10\n",
    "\n",
    "import json\n",
    "import tweepy\n",
    "from tweepy import OAuthHandler\n",
    "consumer_key = 'gew1sBaXeilUZICE0Dx9X45Go'\n",
    "consumer_secret = 'MPd6XZ8yLPzGsW0S5dYpqCCGKNU08rryMOGWQ2PaDXVvVVfJCB'\n",
    "access_token = '732298075440599041-1o5r3u0kGTIP7Cl6kLqj3rtbIorETYH'\n",
    "access_secret = 'b7PT0ofY21BRNTBOEG4HOzcDUhGaSBdqZcmYJblyEj6C5'\n",
    "auth = OAuthHandler(consumer_key, consumer_secret)\n",
    "auth.set_access_token(access_token, access_secret)\n",
    "api = tweepy.API(auth)\n",
    "tweets = api.user_timeline(screen_name=user, count=MAX, tweet_mode='extended')\n",
    "\n",
    "for t in tweets :\n",
    "    print('from')\n",
    "    print(t.)\n",
    "    print(t.full_text)\n",
    "    if 'media' in t.entities:\n",
    "        for image in  t.entities['media']:\n",
    "            print(image['media_url'])\n",
    "   \n",
    "    \n"
   ]
  },
  {
   "cell_type": "code",
   "execution_count": null,
   "metadata": {},
   "outputs": [],
   "source": []
  },
  {
   "cell_type": "code",
   "execution_count": null,
   "metadata": {},
   "outputs": [],
   "source": []
  }
 ],
 "metadata": {
  "kernelspec": {
   "display_name": "Python 3",
   "language": "python",
   "name": "python3"
  },
  "language_info": {
   "codemirror_mode": {
    "name": "ipython",
    "version": 3
   },
   "file_extension": ".py",
   "mimetype": "text/x-python",
   "name": "python",
   "nbconvert_exporter": "python",
   "pygments_lexer": "ipython3",
   "version": "3.7.4"
  }
 },
 "nbformat": 4,
 "nbformat_minor": 4
}
