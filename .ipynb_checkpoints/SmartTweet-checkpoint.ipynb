{
 "cells": [
  {
   "cell_type": "code",
   "execution_count": 2,
   "metadata": {},
   "outputs": [],
   "source": [
    "user = 'VictoriasSecret'\n",
    "MAX = 10\n",
    "\n",
    "import json\n",
    "import tweepy\n",
    "from tweepy import OAuthHandler\n",
    "consumer_key = 'gew1sBaXeilUZICE0Dx9X45Go'\n",
    "consumer_secret = 'MPd6XZ8yLPzGsW0S5dYpqCCGKNU08rryMOGWQ2PaDXVvVVfJCB'\n",
    "access_token = '732298075440599041-1o5r3u0kGTIP7Cl6kLqj3rtbIorETYH'\n",
    "access_secret = 'b7PT0ofY21BRNTBOEG4HOzcDUhGaSBdqZcmYJblyEj6C5'\n",
    "auth = OAuthHandler(consumer_key, consumer_secret)\n",
    "auth.set_access_token(access_token, access_secret)\n",
    "api = tweepy.API(auth)\n",
    "tweets = api.user_timeline(screen_name=user, count=MAX, tweet_mode='extended')"
   ]
  },
  {
   "cell_type": "code",
   "execution_count": null,
   "metadata": {},
   "outputs": [],
   "source": []
  }
 ],
 "metadata": {
  "kernelspec": {
   "display_name": "Python 3",
   "language": "python",
   "name": "python3"
  },
  "language_info": {
   "codemirror_mode": {
    "name": "ipython",
    "version": 3
   },
   "file_extension": ".py",
   "mimetype": "text/x-python",
   "name": "python",
   "nbconvert_exporter": "python",
   "pygments_lexer": "ipython3",
   "version": "3.7.4"
  }
 },
 "nbformat": 4,
 "nbformat_minor": 4
}
